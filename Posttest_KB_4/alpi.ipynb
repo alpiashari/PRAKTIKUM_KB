{
 "cells": [
  {
   "cell_type": "code",
   "execution_count": 2,
   "metadata": {},
   "outputs": [],
   "source": [
    "import pandas as pd\n",
    "import numpy as np\n",
    "from sklearn.model_selection import train_test_split\n",
    "from sklearn.preprocessing import MinMaxScaler, StandardScaler"
   ]
  },
  {
   "cell_type": "markdown",
   "metadata": {},
   "source": [
    "Langkah Pertama\n",
    "Mengimport library yang digunakan sesuai perintah dan mengimport dataset"
   ]
  },
  {
   "cell_type": "code",
   "execution_count": 3,
   "metadata": {},
   "outputs": [
    {
     "data": {
      "text/html": [
       "<div>\n",
       "<style scoped>\n",
       "    .dataframe tbody tr th:only-of-type {\n",
       "        vertical-align: middle;\n",
       "    }\n",
       "\n",
       "    .dataframe tbody tr th {\n",
       "        vertical-align: top;\n",
       "    }\n",
       "\n",
       "    .dataframe thead th {\n",
       "        text-align: right;\n",
       "    }\n",
       "</style>\n",
       "<table border=\"1\" class=\"dataframe\">\n",
       "  <thead>\n",
       "    <tr style=\"text-align: right;\">\n",
       "      <th></th>\n",
       "      <th>instance_id</th>\n",
       "      <th>artist_name</th>\n",
       "      <th>track_name</th>\n",
       "      <th>popularity</th>\n",
       "      <th>acousticness</th>\n",
       "      <th>danceability</th>\n",
       "      <th>duration_ms</th>\n",
       "      <th>energy</th>\n",
       "      <th>instrumentalness</th>\n",
       "      <th>key</th>\n",
       "      <th>liveness</th>\n",
       "      <th>loudness</th>\n",
       "      <th>mode</th>\n",
       "      <th>speechiness</th>\n",
       "      <th>tempo</th>\n",
       "      <th>obtained_date</th>\n",
       "      <th>valence</th>\n",
       "      <th>music_genre</th>\n",
       "    </tr>\n",
       "  </thead>\n",
       "  <tbody>\n",
       "    <tr>\n",
       "      <th>0</th>\n",
       "      <td>32894.0</td>\n",
       "      <td>Röyksopp</td>\n",
       "      <td>Röyksopp's Night Out</td>\n",
       "      <td>27.0</td>\n",
       "      <td>0.00468</td>\n",
       "      <td>0.652</td>\n",
       "      <td>-1.0</td>\n",
       "      <td>0.941</td>\n",
       "      <td>0.79200</td>\n",
       "      <td>A#</td>\n",
       "      <td>0.115</td>\n",
       "      <td>-5.201</td>\n",
       "      <td>Minor</td>\n",
       "      <td>0.0748</td>\n",
       "      <td>100.889</td>\n",
       "      <td>4-Apr</td>\n",
       "      <td>0.759</td>\n",
       "      <td>Electronic</td>\n",
       "    </tr>\n",
       "    <tr>\n",
       "      <th>1</th>\n",
       "      <td>46652.0</td>\n",
       "      <td>Thievery Corporation</td>\n",
       "      <td>The Shining Path</td>\n",
       "      <td>31.0</td>\n",
       "      <td>0.01270</td>\n",
       "      <td>0.622</td>\n",
       "      <td>218293.0</td>\n",
       "      <td>0.890</td>\n",
       "      <td>0.95000</td>\n",
       "      <td>D</td>\n",
       "      <td>0.124</td>\n",
       "      <td>-7.043</td>\n",
       "      <td>Minor</td>\n",
       "      <td>0.0300</td>\n",
       "      <td>115.00200000000001</td>\n",
       "      <td>4-Apr</td>\n",
       "      <td>0.531</td>\n",
       "      <td>Electronic</td>\n",
       "    </tr>\n",
       "    <tr>\n",
       "      <th>2</th>\n",
       "      <td>30097.0</td>\n",
       "      <td>Dillon Francis</td>\n",
       "      <td>Hurricane</td>\n",
       "      <td>28.0</td>\n",
       "      <td>0.00306</td>\n",
       "      <td>0.620</td>\n",
       "      <td>215613.0</td>\n",
       "      <td>0.755</td>\n",
       "      <td>0.01180</td>\n",
       "      <td>G#</td>\n",
       "      <td>0.534</td>\n",
       "      <td>-4.617</td>\n",
       "      <td>Major</td>\n",
       "      <td>0.0345</td>\n",
       "      <td>127.994</td>\n",
       "      <td>4-Apr</td>\n",
       "      <td>0.333</td>\n",
       "      <td>Electronic</td>\n",
       "    </tr>\n",
       "    <tr>\n",
       "      <th>3</th>\n",
       "      <td>62177.0</td>\n",
       "      <td>Dubloadz</td>\n",
       "      <td>Nitro</td>\n",
       "      <td>34.0</td>\n",
       "      <td>0.02540</td>\n",
       "      <td>0.774</td>\n",
       "      <td>166875.0</td>\n",
       "      <td>0.700</td>\n",
       "      <td>0.00253</td>\n",
       "      <td>C#</td>\n",
       "      <td>0.157</td>\n",
       "      <td>-4.498</td>\n",
       "      <td>Major</td>\n",
       "      <td>0.2390</td>\n",
       "      <td>128.014</td>\n",
       "      <td>4-Apr</td>\n",
       "      <td>0.270</td>\n",
       "      <td>Electronic</td>\n",
       "    </tr>\n",
       "    <tr>\n",
       "      <th>4</th>\n",
       "      <td>24907.0</td>\n",
       "      <td>What So Not</td>\n",
       "      <td>Divide &amp; Conquer</td>\n",
       "      <td>32.0</td>\n",
       "      <td>0.00465</td>\n",
       "      <td>0.638</td>\n",
       "      <td>222369.0</td>\n",
       "      <td>0.587</td>\n",
       "      <td>0.90900</td>\n",
       "      <td>F#</td>\n",
       "      <td>0.157</td>\n",
       "      <td>-6.266</td>\n",
       "      <td>Major</td>\n",
       "      <td>0.0413</td>\n",
       "      <td>145.036</td>\n",
       "      <td>4-Apr</td>\n",
       "      <td>0.323</td>\n",
       "      <td>Electronic</td>\n",
       "    </tr>\n",
       "  </tbody>\n",
       "</table>\n",
       "</div>"
      ],
      "text/plain": [
       "   instance_id           artist_name            track_name  popularity  \\\n",
       "0      32894.0              Röyksopp  Röyksopp's Night Out        27.0   \n",
       "1      46652.0  Thievery Corporation      The Shining Path        31.0   \n",
       "2      30097.0        Dillon Francis             Hurricane        28.0   \n",
       "3      62177.0              Dubloadz                 Nitro        34.0   \n",
       "4      24907.0           What So Not      Divide & Conquer        32.0   \n",
       "\n",
       "   acousticness  danceability  duration_ms  energy  instrumentalness key  \\\n",
       "0       0.00468         0.652         -1.0   0.941           0.79200  A#   \n",
       "1       0.01270         0.622     218293.0   0.890           0.95000   D   \n",
       "2       0.00306         0.620     215613.0   0.755           0.01180  G#   \n",
       "3       0.02540         0.774     166875.0   0.700           0.00253  C#   \n",
       "4       0.00465         0.638     222369.0   0.587           0.90900  F#   \n",
       "\n",
       "   liveness  loudness   mode  speechiness               tempo obtained_date  \\\n",
       "0     0.115    -5.201  Minor       0.0748             100.889         4-Apr   \n",
       "1     0.124    -7.043  Minor       0.0300  115.00200000000001         4-Apr   \n",
       "2     0.534    -4.617  Major       0.0345             127.994         4-Apr   \n",
       "3     0.157    -4.498  Major       0.2390             128.014         4-Apr   \n",
       "4     0.157    -6.266  Major       0.0413             145.036         4-Apr   \n",
       "\n",
       "   valence music_genre  \n",
       "0    0.759  Electronic  \n",
       "1    0.531  Electronic  \n",
       "2    0.333  Electronic  \n",
       "3    0.270  Electronic  \n",
       "4    0.323  Electronic  "
      ]
     },
     "execution_count": 3,
     "metadata": {},
     "output_type": "execute_result"
    }
   ],
   "source": [
    "df =pd.read_csv('music_genre.csv')\n",
    "df.head()"
   ]
  },
  {
   "cell_type": "markdown",
   "metadata": {},
   "source": [
    "Langkah Kedua\n",
    "Menampilkan bentuk dari dataset"
   ]
  },
  {
   "cell_type": "code",
   "execution_count": 4,
   "metadata": {},
   "outputs": [
    {
     "name": "stdout",
     "output_type": "stream",
     "text": [
      "<class 'pandas.core.frame.DataFrame'>\n",
      "RangeIndex: 50005 entries, 0 to 50004\n",
      "Data columns (total 18 columns):\n",
      " #   Column            Non-Null Count  Dtype  \n",
      "---  ------            --------------  -----  \n",
      " 0   instance_id       50000 non-null  float64\n",
      " 1   artist_name       50000 non-null  object \n",
      " 2   track_name        50000 non-null  object \n",
      " 3   popularity        50000 non-null  float64\n",
      " 4   acousticness      50000 non-null  float64\n",
      " 5   danceability      50000 non-null  float64\n",
      " 6   duration_ms       50000 non-null  float64\n",
      " 7   energy            50000 non-null  float64\n",
      " 8   instrumentalness  50000 non-null  float64\n",
      " 9   key               50000 non-null  object \n",
      " 10  liveness          50000 non-null  float64\n",
      " 11  loudness          50000 non-null  float64\n",
      " 12  mode              50000 non-null  object \n",
      " 13  speechiness       50000 non-null  float64\n",
      " 14  tempo             50000 non-null  object \n",
      " 15  obtained_date     50000 non-null  object \n",
      " 16  valence           50000 non-null  float64\n",
      " 17  music_genre       50000 non-null  object \n",
      "dtypes: float64(11), object(7)\n",
      "memory usage: 6.9+ MB\n"
     ]
    }
   ],
   "source": [
    "df.info()"
   ]
  },
  {
   "cell_type": "markdown",
   "metadata": {},
   "source": [
    "Langkah Ketiga\n",
    "Bagi dataset menjadi 2 data, data training dan data testing dengan proporsi 70:30"
   ]
  },
  {
   "cell_type": "code",
   "execution_count": 6,
   "metadata": {},
   "outputs": [],
   "source": [
    "x =df.drop('music_genre', axis=1)\n",
    "y=df['music_genre']\n",
    "x_train,x_test,y_train,y_test = train_test_split(x,y,test_size=0.3)"
   ]
  },
  {
   "cell_type": "markdown",
   "metadata": {},
   "source": [
    "Langkah Keempat\n",
    "Menormalisasi data pada salah satu kolom dan copy data set terlebih dahulu"
   ]
  },
  {
   "cell_type": "code",
   "execution_count": 9,
   "metadata": {},
   "outputs": [
    {
     "name": "stdout",
     "output_type": "stream",
     "text": [
      "kolom instance_id sebelum Normalisasi\n",
      "count    50000.000000\n",
      "mean     55888.396360\n",
      "std      20725.256253\n",
      "min      20002.000000\n",
      "25%      37973.500000\n",
      "50%      55913.500000\n",
      "75%      73863.250000\n",
      "max      91759.000000\n",
      "Name: instance_id, dtype: float64\n",
      "\n",
      "\n",
      "\n",
      "\n",
      "kolom instance_id setelah Normalisasi\n",
      "count    50000.000000\n",
      "mean     55888.396360\n",
      "std      20725.256253\n",
      "min      20002.000000\n",
      "25%      37973.500000\n",
      "50%      55913.500000\n",
      "75%      73863.250000\n",
      "max      91759.000000\n",
      "Name: instance_id, dtype: float64\n"
     ]
    }
   ],
   "source": [
    "df_2 = df.copy()\n",
    "\n",
    "scale =MinMaxScaler()\n",
    "scaledData= scale.fit_transform(df_2[['instance_id']])\n",
    "df_2['artist_name'] = scaledData\n",
    "\n",
    "print('kolom instance_id sebelum Normalisasi')\n",
    "print(df['instance_id'].describe())\n",
    "print('\\n')\n",
    "print('\\n')\n",
    "print('kolom instance_id setelah Normalisasi')\n",
    "print(df_2['instance_id'].describe())"
   ]
  },
  {
   "cell_type": "markdown",
   "metadata": {},
   "source": [
    "Langkah Kelima\n",
    "Standarisasi pada data set dan copy data set terlebih dahulu"
   ]
  },
  {
   "cell_type": "code",
   "execution_count": 10,
   "metadata": {},
   "outputs": [
    {
     "name": "stdout",
     "output_type": "stream",
     "text": [
      "Standar deviasi pada kolom instance_id sebelum di standarisasi\n",
      "20725.04899927956\n",
      "\n",
      "\n",
      "\n",
      "\n",
      "Standar deviasi pada kolom instance_id setelah di standarisasi\n",
      "1.0\n"
     ]
    }
   ],
   "source": [
    "df_3 =df.copy()\n",
    "\n",
    "scaler = StandardScaler()\n",
    "scaledData = scaler.fit_transform(df_3[['instance_id']])\n",
    "df_3['instance_id'] = scaledData\n",
    "\n",
    "print('Standar deviasi pada kolom instance_id sebelum di standarisasi')\n",
    "print(np.std(df['instance_id']))\n",
    "print('\\n')\n",
    "print('\\n')\n",
    "print('Standar deviasi pada kolom instance_id setelah di standarisasi')\n",
    "print(np.std(df_3['instance_id']))"
   ]
  },
  {
   "cell_type": "markdown",
   "metadata": {},
   "source": [
    "Langkah Keenam\n",
    "Menampilkan untuk melihat data set"
   ]
  },
  {
   "cell_type": "code",
   "execution_count": 11,
   "metadata": {},
   "outputs": [
    {
     "data": {
      "text/plain": [
       "instance_id         5\n",
       "artist_name         5\n",
       "track_name          5\n",
       "popularity          5\n",
       "acousticness        5\n",
       "danceability        5\n",
       "duration_ms         5\n",
       "energy              5\n",
       "instrumentalness    5\n",
       "key                 5\n",
       "liveness            5\n",
       "loudness            5\n",
       "mode                5\n",
       "speechiness         5\n",
       "tempo               5\n",
       "obtained_date       5\n",
       "valence             5\n",
       "music_genre         5\n",
       "dtype: int64"
      ]
     },
     "execution_count": 11,
     "metadata": {},
     "output_type": "execute_result"
    }
   ],
   "source": [
    "df.isna().sum()"
   ]
  },
  {
   "cell_type": "markdown",
   "metadata": {},
   "source": [
    "Langkah Ketujuh\n",
    "Data cleaning pada data dengan nilai null (jika tidak ada nilai null pada dataset, maka buatlah menjadi ada). Ganti nilai null sesuai ketentuan. (bilangan bulat : median/modus, bilangan desimal : mean, tulisan : modus), dan untuk itu di sini hanya mempunyai 2 tipe data yaitu float dan object."
   ]
  },
  {
   "cell_type": "code",
   "execution_count": 17,
   "metadata": {},
   "outputs": [],
   "source": [
    "df_4= df.copy()\n",
    "df_4['instance_id'].fillna(df_4['instance_id'].mean(),inplace=True)\n",
    "df_4['artist_name'].fillna(df_4['artist_name'].mode()[0],inplace=True)\n",
    "df_4['track_name'].fillna(df_4['track_name'].mode()[0],inplace=True)\n",
    "df_4['popularity'].fillna(df_4['popularity'].mean(),inplace=True)\n",
    "df_4['acousticness'].fillna(df_4['acousticness'].mean(),inplace=True)\n",
    "df_4['danceability'].fillna(df_4['danceability'].mean(),inplace=True)\n",
    "df_4['duration_ms'].fillna(df_4['duration_ms'].mean(),inplace=True)\n",
    "df_4['energy'].fillna(df_4['energy'].mean(),inplace=True)\n",
    "df_4['instrumentalness'].fillna(df_4['instrumentalness'].mean(),inplace=True)\n",
    "df_4['key'].fillna(df_4['key'].mode()[0],inplace=True)\n",
    "df_4['liveness'].fillna(df_4['liveness'].mean(),inplace=True)\n",
    "df_4['loudness'].fillna(df_4['loudness'].mean(),inplace=True)\n",
    "df_4['mode'].fillna(df_4['mode'].mode()[0],inplace=True)\n",
    "df_4['speechiness'].fillna(df_4['speechiness'].mean(),inplace=True)\n",
    "df_4['tempo'].fillna(df_4['tempo'].mode()[0],inplace=True)\n",
    "df_4['obtained_date'].fillna(df_4['obtained_date'].mode()[0],inplace=True)\n",
    "df_4['valence'].fillna(df_4['valence'].mean(),inplace=True)\n",
    "df_4['music_genre'].fillna(df_4['music_genre'].mode()[0],inplace=True)"
   ]
  },
  {
   "cell_type": "markdown",
   "metadata": {},
   "source": [
    "Langkah Kedelepan\n",
    "Menampilkan dataset yang sudah diganti"
   ]
  },
  {
   "cell_type": "code",
   "execution_count": 18,
   "metadata": {},
   "outputs": [
    {
     "data": {
      "text/plain": [
       "instance_id         0\n",
       "artist_name         0\n",
       "track_name          0\n",
       "popularity          0\n",
       "acousticness        0\n",
       "danceability        0\n",
       "duration_ms         0\n",
       "energy              0\n",
       "instrumentalness    0\n",
       "key                 0\n",
       "liveness            0\n",
       "loudness            0\n",
       "mode                0\n",
       "speechiness         0\n",
       "tempo               0\n",
       "obtained_date       0\n",
       "valence             0\n",
       "music_genre         0\n",
       "dtype: int64"
      ]
     },
     "execution_count": 18,
     "metadata": {},
     "output_type": "execute_result"
    }
   ],
   "source": [
    "df_4.isna().sum()"
   ]
  },
  {
   "cell_type": "markdown",
   "metadata": {},
   "source": [
    "Langkah Kedelapan\n",
    "Menghapus data duplikat, karena data tidak ada yang terduplikat maka disini akan membuat sendiri dengan perintah iloc dan dibagian jumlah datanya bebas.(data copy 4)"
   ]
  },
  {
   "cell_type": "code",
   "execution_count": 19,
   "metadata": {},
   "outputs": [
    {
     "data": {
      "text/plain": [
       "5"
      ]
     },
     "execution_count": 19,
     "metadata": {},
     "output_type": "execute_result"
    }
   ],
   "source": [
    "df_4.iloc[5021, :]=df_4.iloc[5022, :]\n",
    "df_4.duplicated().sum()"
   ]
  },
  {
   "cell_type": "code",
   "execution_count": 20,
   "metadata": {},
   "outputs": [
    {
     "name": "stdout",
     "output_type": "stream",
     "text": [
      "       instance_id   artist_name     track_name  popularity  acousticness  \\\n",
      "5022   24114.00000  Hikaru Utada  HEART STATION    40.00000      0.223000   \n",
      "10001  55888.39636   empty_field           Home    44.22042      0.306383   \n",
      "10002  55888.39636   empty_field           Home    44.22042      0.306383   \n",
      "10003  55888.39636   empty_field           Home    44.22042      0.306383   \n",
      "10004  55888.39636   empty_field           Home    44.22042      0.306383   \n",
      "\n",
      "       danceability   duration_ms    energy  instrumentalness key  liveness  \\\n",
      "5022       0.702000  276573.00000  0.776000          0.000002  C#  0.147000   \n",
      "10001      0.558241  221252.60286  0.599755          0.181601   G  0.193896   \n",
      "10002      0.558241  221252.60286  0.599755          0.181601   G  0.193896   \n",
      "10003      0.558241  221252.60286  0.599755          0.181601   G  0.193896   \n",
      "10004      0.558241  221252.60286  0.599755          0.181601   G  0.193896   \n",
      "\n",
      "       loudness   mode  speechiness               tempo obtained_date  \\\n",
      "5022  -3.964000  Minor     0.029400  105.00200000000001         4-Apr   \n",
      "10001 -9.133761  Major     0.093586                   ?         4-Apr   \n",
      "10002 -9.133761  Major     0.093586                   ?         4-Apr   \n",
      "10003 -9.133761  Major     0.093586                   ?         4-Apr   \n",
      "10004 -9.133761  Major     0.093586                   ?         4-Apr   \n",
      "\n",
      "        valence  music_genre  \n",
      "5022   0.368000        Anime  \n",
      "10001  0.456264  Alternative  \n",
      "10002  0.456264  Alternative  \n",
      "10003  0.456264  Alternative  \n",
      "10004  0.456264  Alternative  \n"
     ]
    }
   ],
   "source": [
    "duplicates = df_4.duplicated()\n",
    "print(df_4[duplicates])\n",
    "# Print the duplicate rows"
   ]
  },
  {
   "cell_type": "markdown",
   "metadata": {},
   "source": [
    "Langkah Kesepuluh\n",
    "Menghapus dan menampilkan"
   ]
  },
  {
   "cell_type": "code",
   "execution_count": 21,
   "metadata": {},
   "outputs": [
    {
     "data": {
      "text/plain": [
       "4"
      ]
     },
     "execution_count": 21,
     "metadata": {},
     "output_type": "execute_result"
    }
   ],
   "source": [
    "df_4.drop_duplicates(inplace=True)\n",
    "df.duplicated().sum()"
   ]
  },
  {
   "cell_type": "code",
   "execution_count": 22,
   "metadata": {},
   "outputs": [
    {
     "name": "stdout",
     "output_type": "stream",
     "text": [
      "Empty DataFrame\n",
      "Columns: [instance_id, artist_name, track_name, popularity, acousticness, danceability, duration_ms, energy, instrumentalness, key, liveness, loudness, mode, speechiness, tempo, obtained_date, valence, music_genre]\n",
      "Index: []\n"
     ]
    }
   ],
   "source": [
    "duplicates = df_4.duplicated()\n",
    "print(df_4[duplicates])"
   ]
  },
  {
   "cell_type": "markdown",
   "metadata": {},
   "source": [
    "Langkah Kesebelas\n",
    "mengganti tipe data salah satu attribute angka MinTemp diganti dari float64 menjadi int64"
   ]
  },
  {
   "cell_type": "code",
   "execution_count": 23,
   "metadata": {},
   "outputs": [
    {
     "name": "stdout",
     "output_type": "stream",
     "text": [
      "float64\n"
     ]
    }
   ],
   "source": [
    "print(f\"{df_4['instance_id'].dtypes}\")"
   ]
  },
  {
   "cell_type": "code",
   "execution_count": 24,
   "metadata": {},
   "outputs": [
    {
     "name": "stdout",
     "output_type": "stream",
     "text": [
      "int64\n"
     ]
    }
   ],
   "source": [
    "df_4['instance_id']= df_4['instance_id'].astype('int64')\n",
    "print(f\"{df_4['instance_id'].dtypes}\")"
   ]
  },
  {
   "cell_type": "markdown",
   "metadata": {},
   "source": [
    "Langkah Keduabelas\n",
    "One-hot Encoding pada attribute yang nilai didalamnya lebih dari 2"
   ]
  },
  {
   "cell_type": "code",
   "execution_count": 25,
   "metadata": {},
   "outputs": [],
   "source": [
    "one_enc=pd.get_dummies(df[['artist_name']])\n",
    "df_5= df.join(one_enc.astype('int64'))\n",
    "df_5.drop('artist_name', axis=1, inplace=True)"
   ]
  },
  {
   "cell_type": "code",
   "execution_count": 26,
   "metadata": {},
   "outputs": [
    {
     "data": {
      "text/html": [
       "<div>\n",
       "<style scoped>\n",
       "    .dataframe tbody tr th:only-of-type {\n",
       "        vertical-align: middle;\n",
       "    }\n",
       "\n",
       "    .dataframe tbody tr th {\n",
       "        vertical-align: top;\n",
       "    }\n",
       "\n",
       "    .dataframe thead th {\n",
       "        text-align: right;\n",
       "    }\n",
       "</style>\n",
       "<table border=\"1\" class=\"dataframe\">\n",
       "  <thead>\n",
       "    <tr style=\"text-align: right;\">\n",
       "      <th></th>\n",
       "      <th>instance_id</th>\n",
       "      <th>track_name</th>\n",
       "      <th>popularity</th>\n",
       "      <th>acousticness</th>\n",
       "      <th>danceability</th>\n",
       "      <th>duration_ms</th>\n",
       "      <th>energy</th>\n",
       "      <th>instrumentalness</th>\n",
       "      <th>key</th>\n",
       "      <th>liveness</th>\n",
       "      <th>...</th>\n",
       "      <th>artist_name_夏代孝明</th>\n",
       "      <th>artist_name_大原ゆい子</th>\n",
       "      <th>artist_name_川田まみ</th>\n",
       "      <th>artist_name_彩音</th>\n",
       "      <th>artist_name_春音あいら(CV.阿澄佳奈)</th>\n",
       "      <th>artist_name_棗坂シキ(CV.平川大輔)</th>\n",
       "      <th>artist_name_楚神ウリエ(CV.近藤隆)</th>\n",
       "      <th>artist_name_立華リツカ(CV.茜屋日海夏)</th>\n",
       "      <th>artist_name_鉤貫レム(CV.斉藤壮馬)</th>\n",
       "      <th>artist_name_黒崎真音</th>\n",
       "    </tr>\n",
       "  </thead>\n",
       "  <tbody>\n",
       "    <tr>\n",
       "      <th>0</th>\n",
       "      <td>32894.0</td>\n",
       "      <td>Röyksopp's Night Out</td>\n",
       "      <td>27.0</td>\n",
       "      <td>0.00468</td>\n",
       "      <td>0.652</td>\n",
       "      <td>-1.0</td>\n",
       "      <td>0.941</td>\n",
       "      <td>0.79200</td>\n",
       "      <td>A#</td>\n",
       "      <td>0.115</td>\n",
       "      <td>...</td>\n",
       "      <td>0</td>\n",
       "      <td>0</td>\n",
       "      <td>0</td>\n",
       "      <td>0</td>\n",
       "      <td>0</td>\n",
       "      <td>0</td>\n",
       "      <td>0</td>\n",
       "      <td>0</td>\n",
       "      <td>0</td>\n",
       "      <td>0</td>\n",
       "    </tr>\n",
       "    <tr>\n",
       "      <th>1</th>\n",
       "      <td>46652.0</td>\n",
       "      <td>The Shining Path</td>\n",
       "      <td>31.0</td>\n",
       "      <td>0.01270</td>\n",
       "      <td>0.622</td>\n",
       "      <td>218293.0</td>\n",
       "      <td>0.890</td>\n",
       "      <td>0.95000</td>\n",
       "      <td>D</td>\n",
       "      <td>0.124</td>\n",
       "      <td>...</td>\n",
       "      <td>0</td>\n",
       "      <td>0</td>\n",
       "      <td>0</td>\n",
       "      <td>0</td>\n",
       "      <td>0</td>\n",
       "      <td>0</td>\n",
       "      <td>0</td>\n",
       "      <td>0</td>\n",
       "      <td>0</td>\n",
       "      <td>0</td>\n",
       "    </tr>\n",
       "    <tr>\n",
       "      <th>2</th>\n",
       "      <td>30097.0</td>\n",
       "      <td>Hurricane</td>\n",
       "      <td>28.0</td>\n",
       "      <td>0.00306</td>\n",
       "      <td>0.620</td>\n",
       "      <td>215613.0</td>\n",
       "      <td>0.755</td>\n",
       "      <td>0.01180</td>\n",
       "      <td>G#</td>\n",
       "      <td>0.534</td>\n",
       "      <td>...</td>\n",
       "      <td>0</td>\n",
       "      <td>0</td>\n",
       "      <td>0</td>\n",
       "      <td>0</td>\n",
       "      <td>0</td>\n",
       "      <td>0</td>\n",
       "      <td>0</td>\n",
       "      <td>0</td>\n",
       "      <td>0</td>\n",
       "      <td>0</td>\n",
       "    </tr>\n",
       "    <tr>\n",
       "      <th>3</th>\n",
       "      <td>62177.0</td>\n",
       "      <td>Nitro</td>\n",
       "      <td>34.0</td>\n",
       "      <td>0.02540</td>\n",
       "      <td>0.774</td>\n",
       "      <td>166875.0</td>\n",
       "      <td>0.700</td>\n",
       "      <td>0.00253</td>\n",
       "      <td>C#</td>\n",
       "      <td>0.157</td>\n",
       "      <td>...</td>\n",
       "      <td>0</td>\n",
       "      <td>0</td>\n",
       "      <td>0</td>\n",
       "      <td>0</td>\n",
       "      <td>0</td>\n",
       "      <td>0</td>\n",
       "      <td>0</td>\n",
       "      <td>0</td>\n",
       "      <td>0</td>\n",
       "      <td>0</td>\n",
       "    </tr>\n",
       "    <tr>\n",
       "      <th>4</th>\n",
       "      <td>24907.0</td>\n",
       "      <td>Divide &amp; Conquer</td>\n",
       "      <td>32.0</td>\n",
       "      <td>0.00465</td>\n",
       "      <td>0.638</td>\n",
       "      <td>222369.0</td>\n",
       "      <td>0.587</td>\n",
       "      <td>0.90900</td>\n",
       "      <td>F#</td>\n",
       "      <td>0.157</td>\n",
       "      <td>...</td>\n",
       "      <td>0</td>\n",
       "      <td>0</td>\n",
       "      <td>0</td>\n",
       "      <td>0</td>\n",
       "      <td>0</td>\n",
       "      <td>0</td>\n",
       "      <td>0</td>\n",
       "      <td>0</td>\n",
       "      <td>0</td>\n",
       "      <td>0</td>\n",
       "    </tr>\n",
       "  </tbody>\n",
       "</table>\n",
       "<p>5 rows × 6880 columns</p>\n",
       "</div>"
      ],
      "text/plain": [
       "   instance_id            track_name  popularity  acousticness  danceability  \\\n",
       "0      32894.0  Röyksopp's Night Out        27.0       0.00468         0.652   \n",
       "1      46652.0      The Shining Path        31.0       0.01270         0.622   \n",
       "2      30097.0             Hurricane        28.0       0.00306         0.620   \n",
       "3      62177.0                 Nitro        34.0       0.02540         0.774   \n",
       "4      24907.0      Divide & Conquer        32.0       0.00465         0.638   \n",
       "\n",
       "   duration_ms  energy  instrumentalness key  liveness  ...  artist_name_夏代孝明  \\\n",
       "0         -1.0   0.941           0.79200  A#     0.115  ...                 0   \n",
       "1     218293.0   0.890           0.95000   D     0.124  ...                 0   \n",
       "2     215613.0   0.755           0.01180  G#     0.534  ...                 0   \n",
       "3     166875.0   0.700           0.00253  C#     0.157  ...                 0   \n",
       "4     222369.0   0.587           0.90900  F#     0.157  ...                 0   \n",
       "\n",
       "  artist_name_大原ゆい子  artist_name_川田まみ artist_name_彩音  \\\n",
       "0                 0                 0              0   \n",
       "1                 0                 0              0   \n",
       "2                 0                 0              0   \n",
       "3                 0                 0              0   \n",
       "4                 0                 0              0   \n",
       "\n",
       "  artist_name_春音あいら(CV.阿澄佳奈)  artist_name_棗坂シキ(CV.平川大輔)  \\\n",
       "0                          0                          0   \n",
       "1                          0                          0   \n",
       "2                          0                          0   \n",
       "3                          0                          0   \n",
       "4                          0                          0   \n",
       "\n",
       "  artist_name_楚神ウリエ(CV.近藤隆)  artist_name_立華リツカ(CV.茜屋日海夏)  \\\n",
       "0                         0                            0   \n",
       "1                         0                            0   \n",
       "2                         0                            0   \n",
       "3                         0                            0   \n",
       "4                         0                            0   \n",
       "\n",
       "   artist_name_鉤貫レム(CV.斉藤壮馬)  artist_name_黒崎真音  \n",
       "0                          0                 0  \n",
       "1                          0                 0  \n",
       "2                          0                 0  \n",
       "3                          0                 0  \n",
       "4                          0                 0  \n",
       "\n",
       "[5 rows x 6880 columns]"
      ]
     },
     "execution_count": 26,
     "metadata": {},
     "output_type": "execute_result"
    }
   ],
   "source": [
    "df_5.head()"
   ]
  },
  {
   "cell_type": "code",
   "execution_count": null,
   "metadata": {},
   "outputs": [],
   "source": []
  },
  {
   "cell_type": "code",
   "execution_count": null,
   "metadata": {},
   "outputs": [],
   "source": []
  },
  {
   "cell_type": "code",
   "execution_count": null,
   "metadata": {},
   "outputs": [],
   "source": []
  }
 ],
 "metadata": {
  "kernelspec": {
   "display_name": "Python 3",
   "language": "python",
   "name": "python3"
  },
  "language_info": {
   "codemirror_mode": {
    "name": "ipython",
    "version": 3
   },
   "file_extension": ".py",
   "mimetype": "text/x-python",
   "name": "python",
   "nbconvert_exporter": "python",
   "pygments_lexer": "ipython3",
   "version": "3.10.7"
  }
 },
 "nbformat": 4,
 "nbformat_minor": 2
}
